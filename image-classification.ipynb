{
   "cells": [
      {
         "cell_type": "code",
         "execution_count": 2,
         "metadata": {},
         "outputs": [],
         "source": [
            "import numpy as np\n",
            "import tensorflow as tf\n",
            "import random\n",
            "\n",
            "from tensorflow.keras.models import Sequential # type: ignore\n",
            "from tensorflow.keras.layers import Conv2D, MaxPooling2D, Flatten, Dense # type: ignore\n",
            "from tensorflow.keras.preprocessing.image import ImageDataGenerator # type: ignore\n",
            "from sklearn.base import BaseEstimator, ClassifierMixin\n",
            "from sklearn.model_selection import GridSearchCV\n",
            "from sklearn.metrics import classification_report, confusion_matrix, accuracy_score\n",
            "import matplotlib.pyplot as plt\n",
            "import pandas as pd\n",
            "import seaborn as sns\n",
            "from matplotlib import cm\n",
            "import os \n",
            "import shutil\n",
            "# Set random seed for reproducibility\n",
            "np.random.seed(42)\n",
            "tf.random.set_seed(42)\n",
            "random.seed(42)"
         ]
      },
      {
         "cell_type": "markdown",
         "metadata": {},
         "source": [
            "The next cell creates the training and testing working directories and copies images from the original dataset. 200 images per class are copied for training and 50 per class for testing. (400 total for training and 100 total for testing, thus achieving a balanced dataset with an 80/20 split)"
         ]
      },
      {
         "cell_type": "code",
         "execution_count": 3,
         "metadata": {},
         "outputs": [
            {
               "name": "stdout",
               "output_type": "stream",
               "text": [
                  "Data copied successfully.\n"
               ]
            }
         ],
         "source": [
            "\n",
            "# Define paths\n",
            "data_dir = 'data/'\n",
            "train_dir = 'train/'\n",
            "test_dir = 'test/'\n",
            "\n",
            "# Clear train and test directories\n",
            "shutil.rmtree(train_dir, ignore_errors=True)\n",
            "shutil.rmtree(test_dir, ignore_errors=True)\n",
            "os.makedirs(train_dir, exist_ok=True)\n",
            "os.makedirs(test_dir, exist_ok=True)\n",
            "\n",
            "# Get list of image filenames in each class folder\n",
            "malignant_images = os.listdir(os.path.join(data_dir, 'malignant'))\n",
            "normal_images = os.listdir(os.path.join(data_dir, 'normal'))\n",
            "\n",
            "# Shuffle the filenames\n",
            "random.shuffle(malignant_images)\n",
            "random.shuffle(normal_images)\n",
            "\n",
            "# Define the number of images for training and testing\n",
            "train_count = 200\n",
            "test_count = 50\n",
            "\n",
            "# Split images into training and testing sets\n",
            "malignant_train_images = malignant_images[:train_count]\n",
            "malignant_test_images = malignant_images[train_count:train_count+test_count]\n",
            "\n",
            "normal_train_images = normal_images[:train_count]\n",
            "normal_test_images = normal_images[train_count:train_count+test_count]\n",
            "\n",
            "# Copy images to train and test folders\n",
            "for img in malignant_train_images:\n",
            "    src = os.path.join(data_dir, 'malignant', img)\n",
            "    dst_train = os.path.join(train_dir, 'malignant', img)\n",
            "    os.makedirs(os.path.dirname(dst_train), exist_ok=True)  # Create destination directory if it doesn't exist\n",
            "    shutil.copyfile(src, dst_train)\n",
            "\n",
            "for img in malignant_test_images:\n",
            "    src = os.path.join(data_dir, 'malignant', img)\n",
            "    dst_test = os.path.join(test_dir, 'malignant', img)\n",
            "    os.makedirs(os.path.dirname(dst_test), exist_ok=True)  # Create destination directory if it doesn't exist\n",
            "    shutil.copyfile(src, dst_test)\n",
            "\n",
            "for img in normal_train_images:\n",
            "    src = os.path.join(data_dir, 'normal', img)\n",
            "    dst_train = os.path.join(train_dir, 'normal', img)\n",
            "    os.makedirs(os.path.dirname(dst_train), exist_ok=True)  # Create destination directory if it doesn't exist\n",
            "    shutil.copyfile(src, dst_train)\n",
            "\n",
            "for img in normal_test_images:\n",
            "    src = os.path.join(data_dir, 'normal', img)\n",
            "    dst_test = os.path.join(test_dir, 'normal', img)\n",
            "    os.makedirs(os.path.dirname(dst_test), exist_ok=True)  # Create destination directory if it doesn't exist\n",
            "    shutil.copyfile(src, dst_test)\n",
            "\n",
            "print(\"Data copied successfully.\")"
         ]
      },
      {
         "cell_type": "markdown",
         "metadata": {},
         "source": [
            "To verify that each directory has the expected number of image data."
         ]
      },
      {
         "cell_type": "code",
         "execution_count": 5,
         "metadata": {},
         "outputs": [
            {
               "name": "stdout",
               "output_type": "stream",
               "text": [
                  "Train directory:\n",
                  "Malignant: 200 images\n",
                  "Normal: 200 images\n",
                  "\n",
                  "Test directory:\n",
                  "Malignant: 50 images\n",
                  "Normal: 50 images\n"
               ]
            }
         ],
         "source": [
            "\n",
            "# Define directories\n",
            "train_dir = 'train/'\n",
            "test_dir = 'test/'\n",
            "\n",
            "# Count number of files in train directory\n",
            "train_malignant_count = len(os.listdir(os.path.join(train_dir, 'malignant')))\n",
            "train_normal_count = len(os.listdir(os.path.join(train_dir, 'normal')))\n",
            "\n",
            "# Count number of files in test directory\n",
            "test_malignant_count = len(os.listdir(os.path.join(test_dir, 'malignant')))\n",
            "test_normal_count = len(os.listdir(os.path.join(test_dir, 'normal')))\n",
            "\n",
            "# Print counts\n",
            "print(\"Train directory:\")\n",
            "print(f\"Malignant: {train_malignant_count} images\")\n",
            "print(f\"Normal: {train_normal_count} images\")\n",
            "\n",
            "print(\"\\nTest directory:\")\n",
            "print(f\"Malignant: {test_malignant_count} images\")\n",
            "print(f\"Normal: {test_normal_count} images\")\n"
         ]
      },
      {
         "cell_type": "markdown",
         "metadata": {},
         "source": [
            "The train and test generators are defined. The batch size is set to the max number of images in each set to ensure each model is trained using the same dataset (makes for a fair comparasion.) Each image is modified to be 128x128 pixels to ensure uniformity. The image is also labeled as 0 or 1 depedning on which class it belongs to. Shuffle is set to false to ensure that the the same test set is used when calculating metrics."
         ]
      },
      {
         "cell_type": "code",
         "execution_count": 6,
         "metadata": {},
         "outputs": [
            {
               "name": "stdout",
               "output_type": "stream",
               "text": [
                  "Found 400 images belonging to 2 classes.\n",
                  "Found 100 images belonging to 2 classes.\n"
               ]
            }
         ],
         "source": [
            "# Define image dimensions and other parameters\n",
            "img_height = 128\n",
            "img_width = 128\n",
            "epochs = 10\n",
            "\n",
            "# Create ImageDataGenerators for train and test data\n",
            "train_datagen = ImageDataGenerator(rescale=1./255)\n",
            "test_datagen = ImageDataGenerator(rescale=1./255)\n",
            "\n",
            "\n",
            "train_generator = train_datagen.flow_from_directory(\n",
            "    train_dir,\n",
            "    target_size=(img_height, img_width),\n",
            "    batch_size=400,\n",
            "    class_mode='binary',\n",
            "    shuffle=False)\n",
            "\n",
            "test_generator = test_datagen.flow_from_directory(\n",
            "    test_dir,\n",
            "    target_size=(img_height, img_width),\n",
            "    batch_size=100,\n",
            "    class_mode='binary',\n",
            "    shuffle=False)\n"
         ]
      },
      {
         "cell_type": "markdown",
         "metadata": {},
         "source": [
            "Validating that the test set has all data present."
         ]
      },
      {
         "cell_type": "code",
         "execution_count": 7,
         "metadata": {},
         "outputs": [
            {
               "name": "stdout",
               "output_type": "stream",
               "text": [
                  "(100, 128, 128, 3) (100,)\n",
                  "Number of samples in x_test: 100\n"
               ]
            }
         ],
         "source": [
            "x_test, y_test = next(test_generator)\n",
            "\n",
            "print(x_test.shape, y_test.shape)\n",
            "num_samples = x_test.shape[0]\n",
            "print(\"Number of samples in x_test:\", num_samples)\n"
         ]
      },
      {
         "cell_type": "code",
         "execution_count": 8,
         "metadata": {},
         "outputs": [
            {
               "name": "stderr",
               "output_type": "stream",
               "text": [
                  "C:\\Users\\maham\\AppData\\Local\\Packages\\PythonSoftwareFoundation.Python.3.11_qbz5n2kfra8p0\\LocalCache\\local-packages\\Python311\\site-packages\\keras\\src\\layers\\convolutional\\base_conv.py:99: UserWarning: Do not pass an `input_shape`/`input_dim` argument to a layer. When using Sequential models, prefer using an `Input(shape)` object as the first layer in the model instead.\n",
                  "  super().__init__(\n"
               ]
            },
            {
               "data": {
                  "text/html": [
                     "<pre style=\"white-space:pre;overflow-x:auto;line-height:normal;font-family:Menlo,'DejaVu Sans Mono',consolas,'Courier New',monospace\"><span style=\"font-weight: bold\">Model: \"sequential\"</span>\n",
                     "</pre>\n"
                  ],
                  "text/plain": [
                     "\u001b[1mModel: \"sequential\"\u001b[0m\n"
                  ]
               },
               "metadata": {},
               "output_type": "display_data"
            },
            {
               "data": {
                  "text/html": [
                     "<pre style=\"white-space:pre;overflow-x:auto;line-height:normal;font-family:Menlo,'DejaVu Sans Mono',consolas,'Courier New',monospace\">┏━━━━━━━━━━━━━━━━━━━━━━━━━━━━━━━━━┳━━━━━━━━━━━━━━━━━━━━━━━━┳━━━━━━━━━━━━━━━┓\n",
                     "┃<span style=\"font-weight: bold\"> Layer (type)                    </span>┃<span style=\"font-weight: bold\"> Output Shape           </span>┃<span style=\"font-weight: bold\">       Param # </span>┃\n",
                     "┡━━━━━━━━━━━━━━━━━━━━━━━━━━━━━━━━━╇━━━━━━━━━━━━━━━━━━━━━━━━╇━━━━━━━━━━━━━━━┩\n",
                     "│ conv2d (<span style=\"color: #0087ff; text-decoration-color: #0087ff\">Conv2D</span>)                 │ (<span style=\"color: #00d7ff; text-decoration-color: #00d7ff\">None</span>, <span style=\"color: #00af00; text-decoration-color: #00af00\">126</span>, <span style=\"color: #00af00; text-decoration-color: #00af00\">126</span>, <span style=\"color: #00af00; text-decoration-color: #00af00\">32</span>)   │           <span style=\"color: #00af00; text-decoration-color: #00af00\">896</span> │\n",
                     "├─────────────────────────────────┼────────────────────────┼───────────────┤\n",
                     "│ max_pooling2d (<span style=\"color: #0087ff; text-decoration-color: #0087ff\">MaxPooling2D</span>)    │ (<span style=\"color: #00d7ff; text-decoration-color: #00d7ff\">None</span>, <span style=\"color: #00af00; text-decoration-color: #00af00\">63</span>, <span style=\"color: #00af00; text-decoration-color: #00af00\">63</span>, <span style=\"color: #00af00; text-decoration-color: #00af00\">32</span>)     │             <span style=\"color: #00af00; text-decoration-color: #00af00\">0</span> │\n",
                     "├─────────────────────────────────┼────────────────────────┼───────────────┤\n",
                     "│ conv2d_1 (<span style=\"color: #0087ff; text-decoration-color: #0087ff\">Conv2D</span>)               │ (<span style=\"color: #00d7ff; text-decoration-color: #00d7ff\">None</span>, <span style=\"color: #00af00; text-decoration-color: #00af00\">61</span>, <span style=\"color: #00af00; text-decoration-color: #00af00\">61</span>, <span style=\"color: #00af00; text-decoration-color: #00af00\">64</span>)     │        <span style=\"color: #00af00; text-decoration-color: #00af00\">18,496</span> │\n",
                     "├─────────────────────────────────┼────────────────────────┼───────────────┤\n",
                     "│ max_pooling2d_1 (<span style=\"color: #0087ff; text-decoration-color: #0087ff\">MaxPooling2D</span>)  │ (<span style=\"color: #00d7ff; text-decoration-color: #00d7ff\">None</span>, <span style=\"color: #00af00; text-decoration-color: #00af00\">30</span>, <span style=\"color: #00af00; text-decoration-color: #00af00\">30</span>, <span style=\"color: #00af00; text-decoration-color: #00af00\">64</span>)     │             <span style=\"color: #00af00; text-decoration-color: #00af00\">0</span> │\n",
                     "├─────────────────────────────────┼────────────────────────┼───────────────┤\n",
                     "│ conv2d_2 (<span style=\"color: #0087ff; text-decoration-color: #0087ff\">Conv2D</span>)               │ (<span style=\"color: #00d7ff; text-decoration-color: #00d7ff\">None</span>, <span style=\"color: #00af00; text-decoration-color: #00af00\">28</span>, <span style=\"color: #00af00; text-decoration-color: #00af00\">28</span>, <span style=\"color: #00af00; text-decoration-color: #00af00\">128</span>)    │        <span style=\"color: #00af00; text-decoration-color: #00af00\">73,856</span> │\n",
                     "├─────────────────────────────────┼────────────────────────┼───────────────┤\n",
                     "│ max_pooling2d_2 (<span style=\"color: #0087ff; text-decoration-color: #0087ff\">MaxPooling2D</span>)  │ (<span style=\"color: #00d7ff; text-decoration-color: #00d7ff\">None</span>, <span style=\"color: #00af00; text-decoration-color: #00af00\">14</span>, <span style=\"color: #00af00; text-decoration-color: #00af00\">14</span>, <span style=\"color: #00af00; text-decoration-color: #00af00\">128</span>)    │             <span style=\"color: #00af00; text-decoration-color: #00af00\">0</span> │\n",
                     "├─────────────────────────────────┼────────────────────────┼───────────────┤\n",
                     "│ flatten (<span style=\"color: #0087ff; text-decoration-color: #0087ff\">Flatten</span>)               │ (<span style=\"color: #00d7ff; text-decoration-color: #00d7ff\">None</span>, <span style=\"color: #00af00; text-decoration-color: #00af00\">25088</span>)          │             <span style=\"color: #00af00; text-decoration-color: #00af00\">0</span> │\n",
                     "├─────────────────────────────────┼────────────────────────┼───────────────┤\n",
                     "│ dense (<span style=\"color: #0087ff; text-decoration-color: #0087ff\">Dense</span>)                   │ (<span style=\"color: #00d7ff; text-decoration-color: #00d7ff\">None</span>, <span style=\"color: #00af00; text-decoration-color: #00af00\">128</span>)            │     <span style=\"color: #00af00; text-decoration-color: #00af00\">3,211,392</span> │\n",
                     "├─────────────────────────────────┼────────────────────────┼───────────────┤\n",
                     "│ dense_1 (<span style=\"color: #0087ff; text-decoration-color: #0087ff\">Dense</span>)                 │ (<span style=\"color: #00d7ff; text-decoration-color: #00d7ff\">None</span>, <span style=\"color: #00af00; text-decoration-color: #00af00\">1</span>)              │           <span style=\"color: #00af00; text-decoration-color: #00af00\">129</span> │\n",
                     "└─────────────────────────────────┴────────────────────────┴───────────────┘\n",
                     "</pre>\n"
                  ],
                  "text/plain": [
                     "┏━━━━━━━━━━━━━━━━━━━━━━━━━━━━━━━━━┳━━━━━━━━━━━━━━━━━━━━━━━━┳━━━━━━━━━━━━━━━┓\n",
                     "┃\u001b[1m \u001b[0m\u001b[1mLayer (type)                   \u001b[0m\u001b[1m \u001b[0m┃\u001b[1m \u001b[0m\u001b[1mOutput Shape          \u001b[0m\u001b[1m \u001b[0m┃\u001b[1m \u001b[0m\u001b[1m      Param #\u001b[0m\u001b[1m \u001b[0m┃\n",
                     "┡━━━━━━━━━━━━━━━━━━━━━━━━━━━━━━━━━╇━━━━━━━━━━━━━━━━━━━━━━━━╇━━━━━━━━━━━━━━━┩\n",
                     "│ conv2d (\u001b[38;5;33mConv2D\u001b[0m)                 │ (\u001b[38;5;45mNone\u001b[0m, \u001b[38;5;34m126\u001b[0m, \u001b[38;5;34m126\u001b[0m, \u001b[38;5;34m32\u001b[0m)   │           \u001b[38;5;34m896\u001b[0m │\n",
                     "├─────────────────────────────────┼────────────────────────┼───────────────┤\n",
                     "│ max_pooling2d (\u001b[38;5;33mMaxPooling2D\u001b[0m)    │ (\u001b[38;5;45mNone\u001b[0m, \u001b[38;5;34m63\u001b[0m, \u001b[38;5;34m63\u001b[0m, \u001b[38;5;34m32\u001b[0m)     │             \u001b[38;5;34m0\u001b[0m │\n",
                     "├─────────────────────────────────┼────────────────────────┼───────────────┤\n",
                     "│ conv2d_1 (\u001b[38;5;33mConv2D\u001b[0m)               │ (\u001b[38;5;45mNone\u001b[0m, \u001b[38;5;34m61\u001b[0m, \u001b[38;5;34m61\u001b[0m, \u001b[38;5;34m64\u001b[0m)     │        \u001b[38;5;34m18,496\u001b[0m │\n",
                     "├─────────────────────────────────┼────────────────────────┼───────────────┤\n",
                     "│ max_pooling2d_1 (\u001b[38;5;33mMaxPooling2D\u001b[0m)  │ (\u001b[38;5;45mNone\u001b[0m, \u001b[38;5;34m30\u001b[0m, \u001b[38;5;34m30\u001b[0m, \u001b[38;5;34m64\u001b[0m)     │             \u001b[38;5;34m0\u001b[0m │\n",
                     "├─────────────────────────────────┼────────────────────────┼───────────────┤\n",
                     "│ conv2d_2 (\u001b[38;5;33mConv2D\u001b[0m)               │ (\u001b[38;5;45mNone\u001b[0m, \u001b[38;5;34m28\u001b[0m, \u001b[38;5;34m28\u001b[0m, \u001b[38;5;34m128\u001b[0m)    │        \u001b[38;5;34m73,856\u001b[0m │\n",
                     "├─────────────────────────────────┼────────────────────────┼───────────────┤\n",
                     "│ max_pooling2d_2 (\u001b[38;5;33mMaxPooling2D\u001b[0m)  │ (\u001b[38;5;45mNone\u001b[0m, \u001b[38;5;34m14\u001b[0m, \u001b[38;5;34m14\u001b[0m, \u001b[38;5;34m128\u001b[0m)    │             \u001b[38;5;34m0\u001b[0m │\n",
                     "├─────────────────────────────────┼────────────────────────┼───────────────┤\n",
                     "│ flatten (\u001b[38;5;33mFlatten\u001b[0m)               │ (\u001b[38;5;45mNone\u001b[0m, \u001b[38;5;34m25088\u001b[0m)          │             \u001b[38;5;34m0\u001b[0m │\n",
                     "├─────────────────────────────────┼────────────────────────┼───────────────┤\n",
                     "│ dense (\u001b[38;5;33mDense\u001b[0m)                   │ (\u001b[38;5;45mNone\u001b[0m, \u001b[38;5;34m128\u001b[0m)            │     \u001b[38;5;34m3,211,392\u001b[0m │\n",
                     "├─────────────────────────────────┼────────────────────────┼───────────────┤\n",
                     "│ dense_1 (\u001b[38;5;33mDense\u001b[0m)                 │ (\u001b[38;5;45mNone\u001b[0m, \u001b[38;5;34m1\u001b[0m)              │           \u001b[38;5;34m129\u001b[0m │\n",
                     "└─────────────────────────────────┴────────────────────────┴───────────────┘\n"
                  ]
               },
               "metadata": {},
               "output_type": "display_data"
            },
            {
               "data": {
                  "text/html": [
                     "<pre style=\"white-space:pre;overflow-x:auto;line-height:normal;font-family:Menlo,'DejaVu Sans Mono',consolas,'Courier New',monospace\"><span style=\"font-weight: bold\"> Total params: </span><span style=\"color: #00af00; text-decoration-color: #00af00\">3,304,769</span> (12.61 MB)\n",
                     "</pre>\n"
                  ],
                  "text/plain": [
                     "\u001b[1m Total params: \u001b[0m\u001b[38;5;34m3,304,769\u001b[0m (12.61 MB)\n"
                  ]
               },
               "metadata": {},
               "output_type": "display_data"
            },
            {
               "data": {
                  "text/html": [
                     "<pre style=\"white-space:pre;overflow-x:auto;line-height:normal;font-family:Menlo,'DejaVu Sans Mono',consolas,'Courier New',monospace\"><span style=\"font-weight: bold\"> Trainable params: </span><span style=\"color: #00af00; text-decoration-color: #00af00\">3,304,769</span> (12.61 MB)\n",
                     "</pre>\n"
                  ],
                  "text/plain": [
                     "\u001b[1m Trainable params: \u001b[0m\u001b[38;5;34m3,304,769\u001b[0m (12.61 MB)\n"
                  ]
               },
               "metadata": {},
               "output_type": "display_data"
            },
            {
               "data": {
                  "text/html": [
                     "<pre style=\"white-space:pre;overflow-x:auto;line-height:normal;font-family:Menlo,'DejaVu Sans Mono',consolas,'Courier New',monospace\"><span style=\"font-weight: bold\"> Non-trainable params: </span><span style=\"color: #00af00; text-decoration-color: #00af00\">0</span> (0.00 B)\n",
                     "</pre>\n"
                  ],
                  "text/plain": [
                     "\u001b[1m Non-trainable params: \u001b[0m\u001b[38;5;34m0\u001b[0m (0.00 B)\n"
                  ]
               },
               "metadata": {},
               "output_type": "display_data"
            },
            {
               "name": "stdout",
               "output_type": "stream",
               "text": [
                  "Epoch 1/10\n"
               ]
            },
            {
               "name": "stderr",
               "output_type": "stream",
               "text": [
                  "C:\\Users\\maham\\AppData\\Local\\Packages\\PythonSoftwareFoundation.Python.3.11_qbz5n2kfra8p0\\LocalCache\\local-packages\\Python311\\site-packages\\keras\\src\\trainers\\data_adapters\\py_dataset_adapter.py:120: UserWarning: Your `PyDataset` class should call `super().__init__(**kwargs)` in its constructor. `**kwargs` can include `workers`, `use_multiprocessing`, `max_queue_size`. Do not pass these arguments to `fit()`, as they will be ignored.\n",
                  "  self._warn_if_super_not_called()\n"
               ]
            },
            {
               "name": "stdout",
               "output_type": "stream",
               "text": [
                  "1/1 - 29s - 29s/step - accuracy: 0.4100 - loss: 0.6902 - val_accuracy: 0.5000 - val_loss: 1.7130\n",
                  "Epoch 2/10\n",
                  "1/1 - 16s - 16s/step - accuracy: 0.5000 - loss: 1.7130 - val_accuracy: 0.5000 - val_loss: 0.6406\n",
                  "Epoch 3/10\n",
                  "1/1 - 16s - 16s/step - accuracy: 0.5000 - loss: 0.6406 - val_accuracy: 0.5225 - val_loss: 0.6475\n",
                  "Epoch 4/10\n",
                  "1/1 - 17s - 17s/step - accuracy: 0.5225 - loss: 0.6475 - val_accuracy: 0.7475 - val_loss: 0.6565\n",
                  "Epoch 5/10\n",
                  "1/1 - 17s - 17s/step - accuracy: 0.7475 - loss: 0.6565 - val_accuracy: 0.5225 - val_loss: 0.6215\n",
                  "Epoch 6/10\n",
                  "1/1 - 8s - 8s/step - accuracy: 0.5225 - loss: 0.6215 - val_accuracy: 0.4975 - val_loss: 0.5685\n",
                  "Epoch 7/10\n",
                  "1/1 - 23s - 23s/step - accuracy: 0.4975 - loss: 0.5685 - val_accuracy: 0.7375 - val_loss: 0.6333\n",
                  "Epoch 8/10\n",
                  "1/1 - 13s - 13s/step - accuracy: 0.7375 - loss: 0.6333 - val_accuracy: 0.7325 - val_loss: 0.5383\n",
                  "Epoch 9/10\n",
                  "1/1 - 18s - 18s/step - accuracy: 0.7325 - loss: 0.5383 - val_accuracy: 0.7675 - val_loss: 0.5326\n",
                  "Epoch 10/10\n",
                  "1/1 - 17s - 17s/step - accuracy: 0.7675 - loss: 0.5326 - val_accuracy: 0.7625 - val_loss: 0.5278\n",
                  "\u001b[1m1/1\u001b[0m \u001b[32m━━━━━━━━━━━━━━━━━━━━\u001b[0m\u001b[37m\u001b[0m \u001b[1m1s\u001b[0m 1s/step - accuracy: 0.7700 - loss: 0.5328\n",
                  "Test Accuracy: 0.7699999809265137\n"
               ]
            }
         ],
         "source": [
            "import tensorflow as tf\n",
            "\n",
            "# Define the model architecture\n",
            "def create_model(input_shape):\n",
            "    model = tf.keras.Sequential([\n",
            "        tf.keras.layers.Conv2D(32, (3, 3), activation='relu', input_shape=input_shape),\n",
            "        tf.keras.layers.MaxPooling2D((2, 2)),\n",
            "        tf.keras.layers.Conv2D(64, (3, 3), activation='relu'),\n",
            "        tf.keras.layers.MaxPooling2D((2, 2)),\n",
            "        tf.keras.layers.Conv2D(128, (3, 3), activation='relu'),\n",
            "        tf.keras.layers.MaxPooling2D((2, 2)),\n",
            "        tf.keras.layers.Flatten(),\n",
            "        tf.keras.layers.Dense(128, activation='relu'),\n",
            "        tf.keras.layers.Dense(1, activation='sigmoid')\n",
            "    ])\n",
            "    \n",
            "    # Compile the model\n",
            "    model.compile(optimizer='adam',\n",
            "                  loss='binary_crossentropy',\n",
            "                  metrics=['accuracy'])\n",
            "    \n",
            "    return model\n",
            "\n",
            "\n",
            "# Create an instance of the model\n",
            "model = create_model(input_shape=(img_height, img_width, 3))\n",
            "\n",
            "model.summary()\n",
            "\n",
            "# Fit the model\n",
            "history = model.fit(train_generator, epochs=10, batch_size=32, validation_data=train_generator, verbose=2)  \n",
            "\n",
            "# Evaluate the model on the test set\n",
            "test_loss, test_accuracy = model.evaluate(test_generator)\n",
            "print(\"Test Accuracy:\", test_accuracy)\n"
         ]
      },
      {
         "cell_type": "markdown",
         "metadata": {},
         "source": [
            "CustomKerasClassifer() is instantiated to facilitate grid search to find the optimum hyperparameters."
         ]
      },
      {
         "cell_type": "code",
         "execution_count": 39,
         "metadata": {},
         "outputs": [],
         "source": [
            "\n",
            "class CustomKerasClassifier(BaseEstimator, ClassifierMixin):\n",
            "    def __init__(self, build_fn, optimizer='adam', epochs=10, batch_size=32, verbose=1):\n",
            "        self.build_fn = build_fn\n",
            "        self.optimizer = optimizer\n",
            "        self.epochs = epochs\n",
            "        self.batch_size = batch_size\n",
            "        self.verbose = verbose\n",
            "\n",
            "    def fit(self, X, y):\n",
            "        self.model = self.build_fn()\n",
            "        self.model.compile(optimizer=self.optimizer,\n",
            "                           loss='binary_crossentropy',\n",
            "                           metrics=['accuracy'])\n",
            "        self.model.fit(X, y, epochs=self.epochs, batch_size=self.batch_size, verbose=self.verbose)\n",
            "        return self\n",
            "\n",
            "    def predict(self, X):\n",
            "        return (self.model.predict(X) > 0.5).astype('int32')\n",
            "\n",
            "    def score(self, X, y):\n",
            "        y_pred = self.predict(X)\n",
            "        return accuracy_score(y, y_pred)\n"
         ]
      },
      {
         "cell_type": "markdown",
         "metadata": {},
         "source": [
            "Defining function to create CNN model to be called when performing grid search "
         ]
      },
      {
         "cell_type": "code",
         "execution_count": 40,
         "metadata": {},
         "outputs": [],
         "source": [
            "# Define CNN model\n",
            "def create_model():\n",
            "    model = tf.keras.Sequential([\n",
            "        tf.keras.layers.Conv2D(32, (3, 3), activation='relu', input_shape=(img_height, img_width, 3)),\n",
            "        tf.keras.layers.MaxPooling2D((2, 2)),\n",
            "        tf.keras.layers.Conv2D(64, (3, 3), activation='relu'),\n",
            "        tf.keras.layers.MaxPooling2D((2, 2)),\n",
            "        tf.keras.layers.Conv2D(128, (3, 3), activation='relu'),\n",
            "        tf.keras.layers.MaxPooling2D((2, 2)),\n",
            "        tf.keras.layers.Flatten(),\n",
            "        tf.keras.layers.Dense(128, activation='relu'),\n",
            "        tf.keras.layers.Dense(1, activation='sigmoid')\n",
            "    ])\n",
            "    model.compile(optimizer='adam',\n",
            "              loss='binary_crossentropy',\n",
            "              metrics=['accuracy'])\n",
            "    return model\n",
            "\n",
            "# Wrap Keras model in a scikit-learn compatible classifier\n",
            "model = CustomKerasClassifier(build_fn=create_model, verbose=0)\n"
         ]
      },
      {
         "cell_type": "markdown",
         "metadata": {},
         "source": [
            "Setting up a hyperparamter grid with potential values and conducting a grid search. Apporx run time: ~66 m"
         ]
      },
      {
         "cell_type": "markdown",
         "metadata": {},
         "source": [
            "Summary of all models fitted during grid search. Best model highlighted."
         ]
      },
      {
         "cell_type": "code",
         "execution_count": 93,
         "metadata": {},
         "outputs": [
            {
               "data": {
                  "text/html": [
                     "<div>\n",
                     "<style scoped>\n",
                     "    .dataframe tbody tr th:only-of-type {\n",
                     "        vertical-align: middle;\n",
                     "    }\n",
                     "\n",
                     "    .dataframe tbody tr th {\n",
                     "        vertical-align: top;\n",
                     "    }\n",
                     "\n",
                     "    .dataframe thead th {\n",
                     "        text-align: right;\n",
                     "    }\n",
                     "</style>\n",
                     "<table border=\"1\" class=\"dataframe\">\n",
                     "  <thead>\n",
                     "    <tr style=\"text-align: right;\">\n",
                     "      <th></th>\n",
                     "      <th>Mean Test Score</th>\n",
                     "      <th>Std Test Score</th>\n",
                     "      <th>Mean Train Score</th>\n",
                     "      <th>Std Train Score</th>\n",
                     "      <th>Rank</th>\n",
                     "      <th>Hyperparameters</th>\n",
                     "      <th>Mean Fit Time</th>\n",
                     "      <th>Std Fit Time</th>\n",
                     "      <th>Mean Score Time</th>\n",
                     "      <th>Std Score Time</th>\n",
                     "      <th>Best Model</th>\n",
                     "    </tr>\n",
                     "  </thead>\n",
                     "  <tbody>\n",
                     "    <tr>\n",
                     "      <th>0</th>\n",
                     "      <td>0.8575</td>\n",
                     "      <td>0.064517</td>\n",
                     "      <td>0.947500</td>\n",
                     "      <td>0.040955</td>\n",
                     "      <td>6</td>\n",
                     "      <td>{'batch_size': 32, 'epochs': 10, 'optimizer': ...</td>\n",
                     "      <td>47.545958</td>\n",
                     "      <td>12.202257</td>\n",
                     "      <td>1.013719</td>\n",
                     "      <td>0.091441</td>\n",
                     "      <td>nan</td>\n",
                     "    </tr>\n",
                     "    <tr>\n",
                     "      <th>1</th>\n",
                     "      <td>0.6925</td>\n",
                     "      <td>0.042279</td>\n",
                     "      <td>0.718750</td>\n",
                     "      <td>0.029580</td>\n",
                     "      <td>18</td>\n",
                     "      <td>{'batch_size': 32, 'epochs': 10, 'optimizer': ...</td>\n",
                     "      <td>37.403491</td>\n",
                     "      <td>2.433640</td>\n",
                     "      <td>1.115575</td>\n",
                     "      <td>0.076438</td>\n",
                     "      <td>nan</td>\n",
                     "    </tr>\n",
                     "    <tr>\n",
                     "      <th>2</th>\n",
                     "      <td>0.8875</td>\n",
                     "      <td>0.035355</td>\n",
                     "      <td>0.976250</td>\n",
                     "      <td>0.020406</td>\n",
                     "      <td>2</td>\n",
                     "      <td>{'batch_size': 32, 'epochs': 15, 'optimizer': ...</td>\n",
                     "      <td>61.937014</td>\n",
                     "      <td>8.271718</td>\n",
                     "      <td>1.094013</td>\n",
                     "      <td>0.281086</td>\n",
                     "      <td>nan</td>\n",
                     "    </tr>\n",
                     "    <tr>\n",
                     "      <th>3</th>\n",
                     "      <td>0.7475</td>\n",
                     "      <td>0.067268</td>\n",
                     "      <td>0.781250</td>\n",
                     "      <td>0.046561</td>\n",
                     "      <td>11</td>\n",
                     "      <td>{'batch_size': 32, 'epochs': 15, 'optimizer': ...</td>\n",
                     "      <td>39.770807</td>\n",
                     "      <td>2.875267</td>\n",
                     "      <td>0.651964</td>\n",
                     "      <td>0.111910</td>\n",
                     "      <td>nan</td>\n",
                     "    </tr>\n",
                     "    <tr>\n",
                     "      <th>4</th>\n",
                     "      <td>0.8875</td>\n",
                     "      <td>0.043301</td>\n",
                     "      <td>0.995000</td>\n",
                     "      <td>0.005796</td>\n",
                     "      <td>2</td>\n",
                     "      <td>{'batch_size': 32, 'epochs': 20, 'optimizer': ...</td>\n",
                     "      <td>55.474010</td>\n",
                     "      <td>1.464126</td>\n",
                     "      <td>0.707522</td>\n",
                     "      <td>0.140704</td>\n",
                     "      <td>nan</td>\n",
                     "    </tr>\n",
                     "    <tr>\n",
                     "      <th>5</th>\n",
                     "      <td>0.7775</td>\n",
                     "      <td>0.044300</td>\n",
                     "      <td>0.827500</td>\n",
                     "      <td>0.029541</td>\n",
                     "      <td>9</td>\n",
                     "      <td>{'batch_size': 32, 'epochs': 20, 'optimizer': ...</td>\n",
                     "      <td>52.367902</td>\n",
                     "      <td>1.822867</td>\n",
                     "      <td>0.746129</td>\n",
                     "      <td>0.187176</td>\n",
                     "      <td>nan</td>\n",
                     "    </tr>\n",
                     "    <tr>\n",
                     "      <th>6</th>\n",
                     "      <td>0.8500</td>\n",
                     "      <td>0.015811</td>\n",
                     "      <td>0.908750</td>\n",
                     "      <td>0.051516</td>\n",
                     "      <td>7</td>\n",
                     "      <td>{'batch_size': 64, 'epochs': 10, 'optimizer': ...</td>\n",
                     "      <td>26.650792</td>\n",
                     "      <td>1.115385</td>\n",
                     "      <td>0.680977</td>\n",
                     "      <td>0.115606</td>\n",
                     "      <td>nan</td>\n",
                     "    </tr>\n",
                     "    <tr>\n",
                     "      <th>7</th>\n",
                     "      <td>0.7025</td>\n",
                     "      <td>0.016583</td>\n",
                     "      <td>0.721875</td>\n",
                     "      <td>0.017343</td>\n",
                     "      <td>16</td>\n",
                     "      <td>{'batch_size': 64, 'epochs': 10, 'optimizer': ...</td>\n",
                     "      <td>23.845262</td>\n",
                     "      <td>0.397001</td>\n",
                     "      <td>0.620336</td>\n",
                     "      <td>0.043857</td>\n",
                     "      <td>nan</td>\n",
                     "    </tr>\n",
                     "    <tr>\n",
                     "      <th>8</th>\n",
                     "      <td>0.8850</td>\n",
                     "      <td>0.024238</td>\n",
                     "      <td>0.949375</td>\n",
                     "      <td>0.034765</td>\n",
                     "      <td>4</td>\n",
                     "      <td>{'batch_size': 64, 'epochs': 15, 'optimizer': ...</td>\n",
                     "      <td>38.279504</td>\n",
                     "      <td>0.302006</td>\n",
                     "      <td>0.588250</td>\n",
                     "      <td>0.020213</td>\n",
                     "      <td>nan</td>\n",
                     "    </tr>\n",
                     "    <tr>\n",
                     "      <th>9</th>\n",
                     "      <td>0.7075</td>\n",
                     "      <td>0.038406</td>\n",
                     "      <td>0.703750</td>\n",
                     "      <td>0.021955</td>\n",
                     "      <td>15</td>\n",
                     "      <td>{'batch_size': 64, 'epochs': 15, 'optimizer': ...</td>\n",
                     "      <td>35.767320</td>\n",
                     "      <td>0.572653</td>\n",
                     "      <td>0.609424</td>\n",
                     "      <td>0.021468</td>\n",
                     "      <td>nan</td>\n",
                     "    </tr>\n",
                     "    <tr>\n",
                     "      <th>10</th>\n",
                     "      <td>0.9025</td>\n",
                     "      <td>0.039051</td>\n",
                     "      <td>0.987500</td>\n",
                     "      <td>0.010643</td>\n",
                     "      <td>1</td>\n",
                     "      <td>{'batch_size': 64, 'epochs': 20, 'optimizer': ...</td>\n",
                     "      <td>49.717132</td>\n",
                     "      <td>0.431378</td>\n",
                     "      <td>0.596987</td>\n",
                     "      <td>0.025450</td>\n",
                     "      <td>Yes</td>\n",
                     "    </tr>\n",
                     "    <tr>\n",
                     "      <th>11</th>\n",
                     "      <td>0.7225</td>\n",
                     "      <td>0.027839</td>\n",
                     "      <td>0.760000</td>\n",
                     "      <td>0.009961</td>\n",
                     "      <td>13</td>\n",
                     "      <td>{'batch_size': 64, 'epochs': 20, 'optimizer': ...</td>\n",
                     "      <td>47.185778</td>\n",
                     "      <td>0.865974</td>\n",
                     "      <td>0.898461</td>\n",
                     "      <td>0.329042</td>\n",
                     "      <td>nan</td>\n",
                     "    </tr>\n",
                     "    <tr>\n",
                     "      <th>12</th>\n",
                     "      <td>0.7675</td>\n",
                     "      <td>0.025739</td>\n",
                     "      <td>0.831250</td>\n",
                     "      <td>0.032894</td>\n",
                     "      <td>10</td>\n",
                     "      <td>{'batch_size': 128, 'epochs': 10, 'optimizer':...</td>\n",
                     "      <td>27.529428</td>\n",
                     "      <td>1.196464</td>\n",
                     "      <td>0.660409</td>\n",
                     "      <td>0.048006</td>\n",
                     "      <td>nan</td>\n",
                     "    </tr>\n",
                     "    <tr>\n",
                     "      <th>13</th>\n",
                     "      <td>0.7275</td>\n",
                     "      <td>0.034821</td>\n",
                     "      <td>0.728750</td>\n",
                     "      <td>0.006060</td>\n",
                     "      <td>12</td>\n",
                     "      <td>{'batch_size': 128, 'epochs': 10, 'optimizer':...</td>\n",
                     "      <td>29.025693</td>\n",
                     "      <td>1.439181</td>\n",
                     "      <td>0.818013</td>\n",
                     "      <td>0.039794</td>\n",
                     "      <td>nan</td>\n",
                     "    </tr>\n",
                     "    <tr>\n",
                     "      <th>14</th>\n",
                     "      <td>0.8300</td>\n",
                     "      <td>0.052797</td>\n",
                     "      <td>0.866250</td>\n",
                     "      <td>0.042177</td>\n",
                     "      <td>8</td>\n",
                     "      <td>{'batch_size': 128, 'epochs': 15, 'optimizer':...</td>\n",
                     "      <td>41.013222</td>\n",
                     "      <td>0.840688</td>\n",
                     "      <td>0.689323</td>\n",
                     "      <td>0.065771</td>\n",
                     "      <td>nan</td>\n",
                     "    </tr>\n",
                     "    <tr>\n",
                     "      <th>15</th>\n",
                     "      <td>0.7125</td>\n",
                     "      <td>0.034460</td>\n",
                     "      <td>0.718750</td>\n",
                     "      <td>0.010270</td>\n",
                     "      <td>14</td>\n",
                     "      <td>{'batch_size': 128, 'epochs': 15, 'optimizer':...</td>\n",
                     "      <td>38.506080</td>\n",
                     "      <td>1.812672</td>\n",
                     "      <td>0.672764</td>\n",
                     "      <td>0.048853</td>\n",
                     "      <td>nan</td>\n",
                     "    </tr>\n",
                     "    <tr>\n",
                     "      <th>16</th>\n",
                     "      <td>0.8675</td>\n",
                     "      <td>0.053968</td>\n",
                     "      <td>0.896250</td>\n",
                     "      <td>0.045902</td>\n",
                     "      <td>5</td>\n",
                     "      <td>{'batch_size': 128, 'epochs': 20, 'optimizer':...</td>\n",
                     "      <td>52.033190</td>\n",
                     "      <td>0.650489</td>\n",
                     "      <td>0.612265</td>\n",
                     "      <td>0.041081</td>\n",
                     "      <td>nan</td>\n",
                     "    </tr>\n",
                     "    <tr>\n",
                     "      <th>17</th>\n",
                     "      <td>0.7025</td>\n",
                     "      <td>0.030000</td>\n",
                     "      <td>0.727500</td>\n",
                     "      <td>0.021777</td>\n",
                     "      <td>16</td>\n",
                     "      <td>{'batch_size': 128, 'epochs': 20, 'optimizer':...</td>\n",
                     "      <td>48.741412</td>\n",
                     "      <td>0.862149</td>\n",
                     "      <td>0.609952</td>\n",
                     "      <td>0.047606</td>\n",
                     "      <td>nan</td>\n",
                     "    </tr>\n",
                     "  </tbody>\n",
                     "</table>\n",
                     "</div>"
                  ],
                  "text/plain": [
                     "    Mean Test Score  Std Test Score  Mean Train Score  Std Train Score  Rank  \\\n",
                     "0            0.8575        0.064517          0.947500         0.040955     6   \n",
                     "1            0.6925        0.042279          0.718750         0.029580    18   \n",
                     "2            0.8875        0.035355          0.976250         0.020406     2   \n",
                     "3            0.7475        0.067268          0.781250         0.046561    11   \n",
                     "4            0.8875        0.043301          0.995000         0.005796     2   \n",
                     "5            0.7775        0.044300          0.827500         0.029541     9   \n",
                     "6            0.8500        0.015811          0.908750         0.051516     7   \n",
                     "7            0.7025        0.016583          0.721875         0.017343    16   \n",
                     "8            0.8850        0.024238          0.949375         0.034765     4   \n",
                     "9            0.7075        0.038406          0.703750         0.021955    15   \n",
                     "10           0.9025        0.039051          0.987500         0.010643     1   \n",
                     "11           0.7225        0.027839          0.760000         0.009961    13   \n",
                     "12           0.7675        0.025739          0.831250         0.032894    10   \n",
                     "13           0.7275        0.034821          0.728750         0.006060    12   \n",
                     "14           0.8300        0.052797          0.866250         0.042177     8   \n",
                     "15           0.7125        0.034460          0.718750         0.010270    14   \n",
                     "16           0.8675        0.053968          0.896250         0.045902     5   \n",
                     "17           0.7025        0.030000          0.727500         0.021777    16   \n",
                     "\n",
                     "                                      Hyperparameters  Mean Fit Time  \\\n",
                     "0   {'batch_size': 32, 'epochs': 10, 'optimizer': ...      47.545958   \n",
                     "1   {'batch_size': 32, 'epochs': 10, 'optimizer': ...      37.403491   \n",
                     "2   {'batch_size': 32, 'epochs': 15, 'optimizer': ...      61.937014   \n",
                     "3   {'batch_size': 32, 'epochs': 15, 'optimizer': ...      39.770807   \n",
                     "4   {'batch_size': 32, 'epochs': 20, 'optimizer': ...      55.474010   \n",
                     "5   {'batch_size': 32, 'epochs': 20, 'optimizer': ...      52.367902   \n",
                     "6   {'batch_size': 64, 'epochs': 10, 'optimizer': ...      26.650792   \n",
                     "7   {'batch_size': 64, 'epochs': 10, 'optimizer': ...      23.845262   \n",
                     "8   {'batch_size': 64, 'epochs': 15, 'optimizer': ...      38.279504   \n",
                     "9   {'batch_size': 64, 'epochs': 15, 'optimizer': ...      35.767320   \n",
                     "10  {'batch_size': 64, 'epochs': 20, 'optimizer': ...      49.717132   \n",
                     "11  {'batch_size': 64, 'epochs': 20, 'optimizer': ...      47.185778   \n",
                     "12  {'batch_size': 128, 'epochs': 10, 'optimizer':...      27.529428   \n",
                     "13  {'batch_size': 128, 'epochs': 10, 'optimizer':...      29.025693   \n",
                     "14  {'batch_size': 128, 'epochs': 15, 'optimizer':...      41.013222   \n",
                     "15  {'batch_size': 128, 'epochs': 15, 'optimizer':...      38.506080   \n",
                     "16  {'batch_size': 128, 'epochs': 20, 'optimizer':...      52.033190   \n",
                     "17  {'batch_size': 128, 'epochs': 20, 'optimizer':...      48.741412   \n",
                     "\n",
                     "    Std Fit Time  Mean Score Time  Std Score Time Best Model  \n",
                     "0      12.202257         1.013719        0.091441        nan  \n",
                     "1       2.433640         1.115575        0.076438        nan  \n",
                     "2       8.271718         1.094013        0.281086        nan  \n",
                     "3       2.875267         0.651964        0.111910        nan  \n",
                     "4       1.464126         0.707522        0.140704        nan  \n",
                     "5       1.822867         0.746129        0.187176        nan  \n",
                     "6       1.115385         0.680977        0.115606        nan  \n",
                     "7       0.397001         0.620336        0.043857        nan  \n",
                     "8       0.302006         0.588250        0.020213        nan  \n",
                     "9       0.572653         0.609424        0.021468        nan  \n",
                     "10      0.431378         0.596987        0.025450        Yes  \n",
                     "11      0.865974         0.898461        0.329042        nan  \n",
                     "12      1.196464         0.660409        0.048006        nan  \n",
                     "13      1.439181         0.818013        0.039794        nan  \n",
                     "14      0.840688         0.689323        0.065771        nan  \n",
                     "15      1.812672         0.672764        0.048853        nan  \n",
                     "16      0.650489         0.612265        0.041081        nan  \n",
                     "17      0.862149         0.609952        0.047606        nan  "
                  ]
               },
               "execution_count": 93,
               "metadata": {},
               "output_type": "execute_result"
            }
         ],
         "source": [
            "results = grid_search.cv_results_\n",
            "\n",
            "best_rank = min(results['rank_test_score'])\n",
            "best_index = np.where(results['rank_test_score'] == best_rank)[0][0]\n",
            "\n",
            "results_dict = {\n",
            "    'Mean Test Score': results['mean_test_score'],\n",
            "    'Std Test Score': results['std_test_score'],\n",
            "    'Mean Train Score': results['mean_train_score'],\n",
            "    'Std Train Score': results['std_train_score'],\n",
            "    'Rank': results['rank_test_score'],\n",
            "    'Hyperparameters': results['params'],\n",
            "    'Mean Fit Time': results['mean_fit_time'],\n",
            "    'Std Fit Time': results['std_fit_time'],\n",
            "    'Mean Score Time': results['mean_score_time'],\n",
            "    'Std Score Time': results['std_score_time']\n",
            "}\n",
            "\n",
            "# Convert the dictionary to a pandas DataFrame\n",
            "results_df = pd.DataFrame(results_dict)\n",
            "\n",
            "# Highlight the best model\n",
            "best_model_index = np.where(results['rank_test_score'] == best_rank)[0][0]\n",
            "results_df.loc[best_model_index, 'Best Model'] = 'Yes'\n",
            "results_df.fillna('No', inplace=True)\n",
            "\n",
            "# Display the DataFrame\n",
            "results_df\n",
            "\n"
         ]
      },
      {
         "cell_type": "markdown",
         "metadata": {},
         "source": [
            "Confirming best hyperparamters "
         ]
      },
      {
         "cell_type": "code",
         "execution_count": 94,
         "metadata": {},
         "outputs": [
            {
               "name": "stdout",
               "output_type": "stream",
               "text": [
                  "Best Parameters: {'batch_size': 64, 'epochs': 20, 'optimizer': 'adam'}\n"
               ]
            }
         ],
         "source": [
            "# Get the best parameters\n",
            "best_params = grid_search.best_params_\n",
            "print(\"Best Parameters:\", best_params)\n"
         ]
      },
      {
         "cell_type": "markdown",
         "metadata": {},
         "source": [
            "Fitting a new model with the best hyperparameters"
         ]
      },
      {
         "cell_type": "code",
         "execution_count": 107,
         "metadata": {},
         "outputs": [
            {
               "name": "stderr",
               "output_type": "stream",
               "text": [
                  "C:\\Users\\maham\\AppData\\Local\\Packages\\PythonSoftwareFoundation.Python.3.11_qbz5n2kfra8p0\\LocalCache\\local-packages\\Python311\\site-packages\\keras\\src\\layers\\convolutional\\base_conv.py:99: UserWarning: Do not pass an `input_shape`/`input_dim` argument to a layer. When using Sequential models, prefer using an `Input(shape)` object as the first layer in the model instead.\n",
                  "  super().__init__(\n"
               ]
            },
            {
               "data": {
                  "text/html": [
                     "<pre style=\"white-space:pre;overflow-x:auto;line-height:normal;font-family:Menlo,'DejaVu Sans Mono',consolas,'Courier New',monospace\"><span style=\"font-weight: bold\">Model: \"sequential_143\"</span>\n",
                     "</pre>\n"
                  ],
                  "text/plain": [
                     "\u001b[1mModel: \"sequential_143\"\u001b[0m\n"
                  ]
               },
               "metadata": {},
               "output_type": "display_data"
            },
            {
               "data": {
                  "text/html": [
                     "<pre style=\"white-space:pre;overflow-x:auto;line-height:normal;font-family:Menlo,'DejaVu Sans Mono',consolas,'Courier New',monospace\">┏━━━━━━━━━━━━━━━━━━━━━━━━━━━━━━━━━┳━━━━━━━━━━━━━━━━━━━━━━━━┳━━━━━━━━━━━━━━━┓\n",
                     "┃<span style=\"font-weight: bold\"> Layer (type)                    </span>┃<span style=\"font-weight: bold\"> Output Shape           </span>┃<span style=\"font-weight: bold\">       Param # </span>┃\n",
                     "┡━━━━━━━━━━━━━━━━━━━━━━━━━━━━━━━━━╇━━━━━━━━━━━━━━━━━━━━━━━━╇━━━━━━━━━━━━━━━┩\n",
                     "│ conv2d_429 (<span style=\"color: #0087ff; text-decoration-color: #0087ff\">Conv2D</span>)             │ (<span style=\"color: #00d7ff; text-decoration-color: #00d7ff\">None</span>, <span style=\"color: #00af00; text-decoration-color: #00af00\">126</span>, <span style=\"color: #00af00; text-decoration-color: #00af00\">126</span>, <span style=\"color: #00af00; text-decoration-color: #00af00\">32</span>)   │           <span style=\"color: #00af00; text-decoration-color: #00af00\">896</span> │\n",
                     "├─────────────────────────────────┼────────────────────────┼───────────────┤\n",
                     "│ max_pooling2d_429               │ (<span style=\"color: #00d7ff; text-decoration-color: #00d7ff\">None</span>, <span style=\"color: #00af00; text-decoration-color: #00af00\">63</span>, <span style=\"color: #00af00; text-decoration-color: #00af00\">63</span>, <span style=\"color: #00af00; text-decoration-color: #00af00\">32</span>)     │             <span style=\"color: #00af00; text-decoration-color: #00af00\">0</span> │\n",
                     "│ (<span style=\"color: #0087ff; text-decoration-color: #0087ff\">MaxPooling2D</span>)                  │                        │               │\n",
                     "├─────────────────────────────────┼────────────────────────┼───────────────┤\n",
                     "│ conv2d_430 (<span style=\"color: #0087ff; text-decoration-color: #0087ff\">Conv2D</span>)             │ (<span style=\"color: #00d7ff; text-decoration-color: #00d7ff\">None</span>, <span style=\"color: #00af00; text-decoration-color: #00af00\">61</span>, <span style=\"color: #00af00; text-decoration-color: #00af00\">61</span>, <span style=\"color: #00af00; text-decoration-color: #00af00\">64</span>)     │        <span style=\"color: #00af00; text-decoration-color: #00af00\">18,496</span> │\n",
                     "├─────────────────────────────────┼────────────────────────┼───────────────┤\n",
                     "│ max_pooling2d_430               │ (<span style=\"color: #00d7ff; text-decoration-color: #00d7ff\">None</span>, <span style=\"color: #00af00; text-decoration-color: #00af00\">30</span>, <span style=\"color: #00af00; text-decoration-color: #00af00\">30</span>, <span style=\"color: #00af00; text-decoration-color: #00af00\">64</span>)     │             <span style=\"color: #00af00; text-decoration-color: #00af00\">0</span> │\n",
                     "│ (<span style=\"color: #0087ff; text-decoration-color: #0087ff\">MaxPooling2D</span>)                  │                        │               │\n",
                     "├─────────────────────────────────┼────────────────────────┼───────────────┤\n",
                     "│ conv2d_431 (<span style=\"color: #0087ff; text-decoration-color: #0087ff\">Conv2D</span>)             │ (<span style=\"color: #00d7ff; text-decoration-color: #00d7ff\">None</span>, <span style=\"color: #00af00; text-decoration-color: #00af00\">28</span>, <span style=\"color: #00af00; text-decoration-color: #00af00\">28</span>, <span style=\"color: #00af00; text-decoration-color: #00af00\">128</span>)    │        <span style=\"color: #00af00; text-decoration-color: #00af00\">73,856</span> │\n",
                     "├─────────────────────────────────┼────────────────────────┼───────────────┤\n",
                     "│ max_pooling2d_431               │ (<span style=\"color: #00d7ff; text-decoration-color: #00d7ff\">None</span>, <span style=\"color: #00af00; text-decoration-color: #00af00\">14</span>, <span style=\"color: #00af00; text-decoration-color: #00af00\">14</span>, <span style=\"color: #00af00; text-decoration-color: #00af00\">128</span>)    │             <span style=\"color: #00af00; text-decoration-color: #00af00\">0</span> │\n",
                     "│ (<span style=\"color: #0087ff; text-decoration-color: #0087ff\">MaxPooling2D</span>)                  │                        │               │\n",
                     "├─────────────────────────────────┼────────────────────────┼───────────────┤\n",
                     "│ flatten_143 (<span style=\"color: #0087ff; text-decoration-color: #0087ff\">Flatten</span>)           │ (<span style=\"color: #00d7ff; text-decoration-color: #00d7ff\">None</span>, <span style=\"color: #00af00; text-decoration-color: #00af00\">25088</span>)          │             <span style=\"color: #00af00; text-decoration-color: #00af00\">0</span> │\n",
                     "├─────────────────────────────────┼────────────────────────┼───────────────┤\n",
                     "│ dense_286 (<span style=\"color: #0087ff; text-decoration-color: #0087ff\">Dense</span>)               │ (<span style=\"color: #00d7ff; text-decoration-color: #00d7ff\">None</span>, <span style=\"color: #00af00; text-decoration-color: #00af00\">128</span>)            │     <span style=\"color: #00af00; text-decoration-color: #00af00\">3,211,392</span> │\n",
                     "├─────────────────────────────────┼────────────────────────┼───────────────┤\n",
                     "│ dense_287 (<span style=\"color: #0087ff; text-decoration-color: #0087ff\">Dense</span>)               │ (<span style=\"color: #00d7ff; text-decoration-color: #00d7ff\">None</span>, <span style=\"color: #00af00; text-decoration-color: #00af00\">1</span>)              │           <span style=\"color: #00af00; text-decoration-color: #00af00\">129</span> │\n",
                     "└─────────────────────────────────┴────────────────────────┴───────────────┘\n",
                     "</pre>\n"
                  ],
                  "text/plain": [
                     "┏━━━━━━━━━━━━━━━━━━━━━━━━━━━━━━━━━┳━━━━━━━━━━━━━━━━━━━━━━━━┳━━━━━━━━━━━━━━━┓\n",
                     "┃\u001b[1m \u001b[0m\u001b[1mLayer (type)                   \u001b[0m\u001b[1m \u001b[0m┃\u001b[1m \u001b[0m\u001b[1mOutput Shape          \u001b[0m\u001b[1m \u001b[0m┃\u001b[1m \u001b[0m\u001b[1m      Param #\u001b[0m\u001b[1m \u001b[0m┃\n",
                     "┡━━━━━━━━━━━━━━━━━━━━━━━━━━━━━━━━━╇━━━━━━━━━━━━━━━━━━━━━━━━╇━━━━━━━━━━━━━━━┩\n",
                     "│ conv2d_429 (\u001b[38;5;33mConv2D\u001b[0m)             │ (\u001b[38;5;45mNone\u001b[0m, \u001b[38;5;34m126\u001b[0m, \u001b[38;5;34m126\u001b[0m, \u001b[38;5;34m32\u001b[0m)   │           \u001b[38;5;34m896\u001b[0m │\n",
                     "├─────────────────────────────────┼────────────────────────┼───────────────┤\n",
                     "│ max_pooling2d_429               │ (\u001b[38;5;45mNone\u001b[0m, \u001b[38;5;34m63\u001b[0m, \u001b[38;5;34m63\u001b[0m, \u001b[38;5;34m32\u001b[0m)     │             \u001b[38;5;34m0\u001b[0m │\n",
                     "│ (\u001b[38;5;33mMaxPooling2D\u001b[0m)                  │                        │               │\n",
                     "├─────────────────────────────────┼────────────────────────┼───────────────┤\n",
                     "│ conv2d_430 (\u001b[38;5;33mConv2D\u001b[0m)             │ (\u001b[38;5;45mNone\u001b[0m, \u001b[38;5;34m61\u001b[0m, \u001b[38;5;34m61\u001b[0m, \u001b[38;5;34m64\u001b[0m)     │        \u001b[38;5;34m18,496\u001b[0m │\n",
                     "├─────────────────────────────────┼────────────────────────┼───────────────┤\n",
                     "│ max_pooling2d_430               │ (\u001b[38;5;45mNone\u001b[0m, \u001b[38;5;34m30\u001b[0m, \u001b[38;5;34m30\u001b[0m, \u001b[38;5;34m64\u001b[0m)     │             \u001b[38;5;34m0\u001b[0m │\n",
                     "│ (\u001b[38;5;33mMaxPooling2D\u001b[0m)                  │                        │               │\n",
                     "├─────────────────────────────────┼────────────────────────┼───────────────┤\n",
                     "│ conv2d_431 (\u001b[38;5;33mConv2D\u001b[0m)             │ (\u001b[38;5;45mNone\u001b[0m, \u001b[38;5;34m28\u001b[0m, \u001b[38;5;34m28\u001b[0m, \u001b[38;5;34m128\u001b[0m)    │        \u001b[38;5;34m73,856\u001b[0m │\n",
                     "├─────────────────────────────────┼────────────────────────┼───────────────┤\n",
                     "│ max_pooling2d_431               │ (\u001b[38;5;45mNone\u001b[0m, \u001b[38;5;34m14\u001b[0m, \u001b[38;5;34m14\u001b[0m, \u001b[38;5;34m128\u001b[0m)    │             \u001b[38;5;34m0\u001b[0m │\n",
                     "│ (\u001b[38;5;33mMaxPooling2D\u001b[0m)                  │                        │               │\n",
                     "├─────────────────────────────────┼────────────────────────┼───────────────┤\n",
                     "│ flatten_143 (\u001b[38;5;33mFlatten\u001b[0m)           │ (\u001b[38;5;45mNone\u001b[0m, \u001b[38;5;34m25088\u001b[0m)          │             \u001b[38;5;34m0\u001b[0m │\n",
                     "├─────────────────────────────────┼────────────────────────┼───────────────┤\n",
                     "│ dense_286 (\u001b[38;5;33mDense\u001b[0m)               │ (\u001b[38;5;45mNone\u001b[0m, \u001b[38;5;34m128\u001b[0m)            │     \u001b[38;5;34m3,211,392\u001b[0m │\n",
                     "├─────────────────────────────────┼────────────────────────┼───────────────┤\n",
                     "│ dense_287 (\u001b[38;5;33mDense\u001b[0m)               │ (\u001b[38;5;45mNone\u001b[0m, \u001b[38;5;34m1\u001b[0m)              │           \u001b[38;5;34m129\u001b[0m │\n",
                     "└─────────────────────────────────┴────────────────────────┴───────────────┘\n"
                  ]
               },
               "metadata": {},
               "output_type": "display_data"
            },
            {
               "data": {
                  "text/html": [
                     "<pre style=\"white-space:pre;overflow-x:auto;line-height:normal;font-family:Menlo,'DejaVu Sans Mono',consolas,'Courier New',monospace\"><span style=\"font-weight: bold\"> Total params: </span><span style=\"color: #00af00; text-decoration-color: #00af00\">3,304,769</span> (12.61 MB)\n",
                     "</pre>\n"
                  ],
                  "text/plain": [
                     "\u001b[1m Total params: \u001b[0m\u001b[38;5;34m3,304,769\u001b[0m (12.61 MB)\n"
                  ]
               },
               "metadata": {},
               "output_type": "display_data"
            },
            {
               "data": {
                  "text/html": [
                     "<pre style=\"white-space:pre;overflow-x:auto;line-height:normal;font-family:Menlo,'DejaVu Sans Mono',consolas,'Courier New',monospace\"><span style=\"font-weight: bold\"> Trainable params: </span><span style=\"color: #00af00; text-decoration-color: #00af00\">3,304,769</span> (12.61 MB)\n",
                     "</pre>\n"
                  ],
                  "text/plain": [
                     "\u001b[1m Trainable params: \u001b[0m\u001b[38;5;34m3,304,769\u001b[0m (12.61 MB)\n"
                  ]
               },
               "metadata": {},
               "output_type": "display_data"
            },
            {
               "data": {
                  "text/html": [
                     "<pre style=\"white-space:pre;overflow-x:auto;line-height:normal;font-family:Menlo,'DejaVu Sans Mono',consolas,'Courier New',monospace\"><span style=\"font-weight: bold\"> Non-trainable params: </span><span style=\"color: #00af00; text-decoration-color: #00af00\">0</span> (0.00 B)\n",
                     "</pre>\n"
                  ],
                  "text/plain": [
                     "\u001b[1m Non-trainable params: \u001b[0m\u001b[38;5;34m0\u001b[0m (0.00 B)\n"
                  ]
               },
               "metadata": {},
               "output_type": "display_data"
            },
            {
               "name": "stdout",
               "output_type": "stream",
               "text": [
                  "Epoch 1/20\n",
                  "1/1 - 14s - 14s/step - accuracy: 0.2950 - loss: 0.6976 - val_accuracy: 0.5000 - val_loss: 0.8042\n",
                  "Epoch 2/20\n",
                  "1/1 - 28s - 28s/step - accuracy: 0.5000 - loss: 0.8042 - val_accuracy: 0.5000 - val_loss: 0.6317\n",
                  "Epoch 3/20\n",
                  "1/1 - 24s - 24s/step - accuracy: 0.5000 - loss: 0.6317 - val_accuracy: 0.5000 - val_loss: 0.6275\n",
                  "Epoch 4/20\n",
                  "1/1 - 12s - 12s/step - accuracy: 0.5000 - loss: 0.6275 - val_accuracy: 0.5000 - val_loss: 0.5945\n",
                  "Epoch 5/20\n",
                  "1/1 - 25s - 25s/step - accuracy: 0.5000 - loss: 0.5945 - val_accuracy: 0.5000 - val_loss: 0.6069\n",
                  "Epoch 6/20\n",
                  "1/1 - 12s - 12s/step - accuracy: 0.5000 - loss: 0.6069 - val_accuracy: 0.7375 - val_loss: 0.5486\n",
                  "Epoch 7/20\n",
                  "1/1 - 24s - 24s/step - accuracy: 0.7375 - loss: 0.5486 - val_accuracy: 0.5275 - val_loss: 0.5329\n",
                  "Epoch 8/20\n",
                  "1/1 - 22s - 22s/step - accuracy: 0.5275 - loss: 0.5329 - val_accuracy: 0.7600 - val_loss: 0.5212\n",
                  "Epoch 9/20\n",
                  "1/1 - 27s - 27s/step - accuracy: 0.7600 - loss: 0.5212 - val_accuracy: 0.7500 - val_loss: 0.5175\n",
                  "Epoch 10/20\n",
                  "1/1 - 7s - 7s/step - accuracy: 0.7500 - loss: 0.5175 - val_accuracy: 0.7775 - val_loss: 0.5118\n",
                  "Epoch 11/20\n",
                  "1/1 - 23s - 23s/step - accuracy: 0.7775 - loss: 0.5118 - val_accuracy: 0.7825 - val_loss: 0.5078\n",
                  "Epoch 12/20\n",
                  "1/1 - 6s - 6s/step - accuracy: 0.7825 - loss: 0.5078 - val_accuracy: 0.7775 - val_loss: 0.5052\n",
                  "Epoch 13/20\n",
                  "1/1 - 7s - 7s/step - accuracy: 0.7775 - loss: 0.5052 - val_accuracy: 0.7825 - val_loss: 0.5035\n",
                  "Epoch 14/20\n",
                  "1/1 - 24s - 24s/step - accuracy: 0.7825 - loss: 0.5035 - val_accuracy: 0.7825 - val_loss: 0.5033\n",
                  "Epoch 15/20\n",
                  "1/1 - 7s - 7s/step - accuracy: 0.7825 - loss: 0.5033 - val_accuracy: 0.7875 - val_loss: 0.5012\n",
                  "Epoch 16/20\n",
                  "1/1 - 24s - 24s/step - accuracy: 0.7875 - loss: 0.5012 - val_accuracy: 0.7875 - val_loss: 0.5001\n",
                  "Epoch 17/20\n",
                  "1/1 - 8s - 8s/step - accuracy: 0.7875 - loss: 0.5001 - val_accuracy: 0.8000 - val_loss: 0.4986\n",
                  "Epoch 18/20\n",
                  "1/1 - 25s - 25s/step - accuracy: 0.8000 - loss: 0.4986 - val_accuracy: 0.7900 - val_loss: 0.4973\n",
                  "Epoch 19/20\n",
                  "1/1 - 7s - 7s/step - accuracy: 0.7900 - loss: 0.4973 - val_accuracy: 0.7875 - val_loss: 0.4947\n",
                  "Epoch 20/20\n",
                  "1/1 - 7s - 7s/step - accuracy: 0.7875 - loss: 0.4947 - val_accuracy: 0.7975 - val_loss: 0.4921\n",
                  "\u001b[1m1/1\u001b[0m \u001b[32m━━━━━━━━━━━━━━━━━━━━\u001b[0m\u001b[37m\u001b[0m \u001b[1m1s\u001b[0m 714ms/step - accuracy: 0.7800 - loss: 0.4894\n",
                  "Test Accuracy: 0.7799999713897705\n"
               ]
            }
         ],
         "source": [
            "import tensorflow as tf\n",
            "\n",
            "# Define the model architecture\n",
            "def create_model(input_shape):\n",
            "    model = tf.keras.Sequential([\n",
            "        tf.keras.layers.Conv2D(32, (3, 3), activation='relu', input_shape=input_shape),\n",
            "        tf.keras.layers.MaxPooling2D((2, 2)),\n",
            "        tf.keras.layers.Conv2D(64, (3, 3), activation='relu'),\n",
            "        tf.keras.layers.MaxPooling2D((2, 2)),\n",
            "        tf.keras.layers.Conv2D(128, (3, 3), activation='relu'),\n",
            "        tf.keras.layers.MaxPooling2D((2, 2)),\n",
            "        tf.keras.layers.Flatten(),\n",
            "        tf.keras.layers.Dense(128, activation='relu'),\n",
            "        tf.keras.layers.Dense(1, activation='sigmoid')\n",
            "    ])\n",
            "    \n",
            "    # Compile the model\n",
            "    model.compile(optimizer='adam',\n",
            "                  loss='binary_crossentropy',\n",
            "                  metrics=['accuracy'])\n",
            "    \n",
            "    return model\n",
            "\n",
            "\n",
            "# Create an instance of the model\n",
            "model = create_model(input_shape=(img_height, img_width, 3))\n",
            "\n",
            "model.summary()\n",
            "\n",
            "# Fit the model\n",
            "history = model.fit(train_generator, epochs=20, batch_size=64, validation_data=train_generator, verbose=2)  \n",
            "\n",
            "# Evaluate the model on the test set\n",
            "test_loss, test_accuracy = model.evaluate(test_generator)\n",
            "print(\"Test Accuracy:\", test_accuracy)\n"
         ]
      },
      {
         "cell_type": "markdown",
         "metadata": {},
         "source": [
            "Printing Test accuracy and Test loss\n"
         ]
      },
      {
         "cell_type": "code",
         "execution_count": 108,
         "metadata": {},
         "outputs": [
            {
               "name": "stdout",
               "output_type": "stream",
               "text": [
                  "Test loss: 0.4894055426120758\n",
                  "Test accuracy: 0.7799999713897705\n"
               ]
            }
         ],
         "source": [
            "score = model.evaluate(test_generator, verbose=0)\n",
            "print(\"Test loss:\", score[0])\n",
            "print(\"Test accuracy:\", score[1])"
         ]
      },
      {
         "cell_type": "markdown",
         "metadata": {},
         "source": [
            "Comparing validation loss to normal loss "
         ]
      },
      {
         "cell_type": "code",
         "execution_count": 109,
         "metadata": {},
         "outputs": [
            {
               "data": {
                  "image/png": "[encoded data removed]",
                  "text/plain": [
                     "<Figure size 640x480 with 1 Axes>"
                  ]
               },
               "metadata": {},
               "output_type": "display_data"
            }
         ],
         "source": [
            "vy = history.history['val_loss']\n",
            "ty = history.history['loss']\n",
            "x = list(range(1, len(vy) + 1))  # Adjust x to represent the range of epochs\n",
            "\n",
            "\n",
            "plt.plot(x, vy)\n",
            "plt.plot(x, ty)\n",
            "plt.show()\n"
         ]
      },
      {
         "cell_type": "markdown",
         "metadata": {},
         "source": [
            "Printing metrics for classifcation for training and testing datasets. (Accuracies, Sensitivity, Specificity, and classifcation report)"
         ]
      },
      {
         "cell_type": "code",
         "execution_count": 110,
         "metadata": {},
         "outputs": [
            {
               "name": "stdout",
               "output_type": "stream",
               "text": [
                  "\u001b[1m1/1\u001b[0m \u001b[32m━━━━━━━━━━━━━━━━━━━━\u001b[0m\u001b[37m\u001b[0m \u001b[1m9s\u001b[0m 9s/step - accuracy: 0.7975 - loss: 0.4921\n",
                  "Train Accuracy: 0.7975000143051147\n",
                  "\u001b[1m1/1\u001b[0m \u001b[32m━━━━━━━━━━━━━━━━━━━━\u001b[0m\u001b[37m\u001b[0m \u001b[1m3s\u001b[0m 3s/step\n",
                  "Classification Report (Train Data):\n",
                  "              precision    recall  f1-score   support\n",
                  "\n",
                  "           0       0.88      0.69      0.77       200\n",
                  "           1       0.74      0.91      0.82       200\n",
                  "\n",
                  "    accuracy                           0.80       400\n",
                  "   macro avg       0.81      0.80      0.80       400\n",
                  "weighted avg       0.81      0.80      0.80       400\n",
                  "\n",
                  "Accuracy (Train Data): 0.7975\n",
                  "Sensitivity (Train Data): 0.905\n",
                  "Specificity (Train Data): 0.69\n",
                  "\u001b[1m1/1\u001b[0m \u001b[32m━━━━━━━━━━━━━━━━━━━━\u001b[0m\u001b[37m\u001b[0m \u001b[1m1s\u001b[0m 605ms/step - accuracy: 0.7800 - loss: 0.4894\n",
                  "\n",
                  "Test Accuracy: 0.7799999713897705\n",
                  "\u001b[1m1/1\u001b[0m \u001b[32m━━━━━━━━━━━━━━━━━━━━\u001b[0m\u001b[37m\u001b[0m \u001b[1m1s\u001b[0m 744ms/step\n",
                  "Classification Report (Test Data):\n",
                  "              precision    recall  f1-score   support\n",
                  "\n",
                  "           0       0.87      0.66      0.75        50\n",
                  "           1       0.73      0.90      0.80        50\n",
                  "\n",
                  "    accuracy                           0.78       100\n",
                  "   macro avg       0.80      0.78      0.78       100\n",
                  "weighted avg       0.80      0.78      0.78       100\n",
                  "\n",
                  "Accuracy (Test Data): 0.78\n",
                  "Sensitivity (Test Data): 0.9\n",
                  "Specificity (Test Data): 0.66\n"
               ]
            }
         ],
         "source": [
            "\n",
            "# Evaluate the model on the train set\n",
            "train_loss, train_accuracy = model.evaluate(train_generator)\n",
            "print(\"Train Accuracy:\", train_accuracy)\n",
            "\n",
            "# Make predictions on the train set\n",
            "train_predictions = model.predict(train_generator)\n",
            "y_train_pred = np.where(train_predictions > 0.5, 1, 0)  # Thresholding the predictions for binary classification\n",
            "\n",
            "# Get true labels for the train set\n",
            "true_train_labels = train_generator.classes\n",
            "\n",
            "# Print classification report for train data\n",
            "print(\"Classification Report (Train Data):\")\n",
            "print(classification_report(true_train_labels, y_train_pred))\n",
            "\n",
            "# Print accuracy for train data\n",
            "accuracy_train = accuracy_score(true_train_labels, y_train_pred)\n",
            "print(\"Accuracy (Train Data):\", accuracy_train)\n",
            "\n",
            "# Calculate confusion matrix for train data\n",
            "conf_matrix_train = confusion_matrix(true_train_labels, y_train_pred)\n",
            "\n",
            "# Calculate true positives, false negatives, true negatives, and false positives for train data\n",
            "tp_train = conf_matrix_train[1, 1]\n",
            "fn_train = conf_matrix_train[1, 0]\n",
            "tn_train = conf_matrix_train[0, 0]\n",
            "fp_train = conf_matrix_train[0, 1]\n",
            "\n",
            "# Calculate sensitivity (true positive rate) and specificity (true negative rate) for train data\n",
            "sensitivity_train = tp_train / (tp_train + fn_train)\n",
            "specificity_train = tn_train / (tn_train + fp_train)\n",
            "\n",
            "# Print sensitivity and specificity for train data\n",
            "print(\"Sensitivity (Train Data):\", sensitivity_train)\n",
            "print(\"Specificity (Train Data):\", specificity_train)\n",
            "\n",
            "\n",
            "# Evaluate the model on the test set\n",
            "test_loss, test_accuracy = model.evaluate(test_generator)\n",
            "print(\"\\nTest Accuracy:\", test_accuracy)\n",
            "\n",
            "# Make predictions on the test set\n",
            "test_predictions = model.predict(test_generator)\n",
            "y_test_pred = np.where(test_predictions > 0.5, 1, 0)  # Thresholding the predictions for binary classification\n",
            "\n",
            "# Get true labels for the test set\n",
            "true_test_labels = test_generator.classes\n",
            "\n",
            "# Print classification report for test data\n",
            "print(\"Classification Report (Test Data):\")\n",
            "print(classification_report(true_test_labels, y_test_pred))\n",
            "\n",
            "# Print accuracy for test data\n",
            "accuracy_test = accuracy_score(true_test_labels, y_test_pred)\n",
            "print(\"Accuracy (Test Data):\", accuracy_test)\n",
            "\n",
            "# Calculate confusion matrix for test data\n",
            "conf_matrix_test = confusion_matrix(true_test_labels, y_test_pred)\n",
            "\n",
            "# Calculate true positives, false negatives, true negatives, and false positives for test data\n",
            "tp_test = conf_matrix_test[1, 1]\n",
            "fn_test = conf_matrix_test[1, 0]\n",
            "tn_test = conf_matrix_test[0, 0]\n",
            "fp_test = conf_matrix_test[0, 1]\n",
            "\n",
            "# Calculate sensitivity (true positive rate) and specificity (true negative rate) for test data\n",
            "sensitivity_test = tp_test / (tp_test + fn_test)\n",
            "specificity_test = tn_test / (tn_test + fp_test)\n",
            "\n",
            "# Print sensitivity and specificity for test data\n",
            "print(\"Sensitivity (Test Data):\", sensitivity_test)\n",
            "print(\"Specificity (Test Data):\", specificity_test)\n"
         ]
      },
      {
         "cell_type": "markdown",
         "metadata": {},
         "source": [
            "Plotting confusion matrix "
         ]
      },
      {
         "cell_type": "code",
         "execution_count": 120,
         "metadata": {},
         "outputs": [
            {
               "data": {
                  "image/png": "[encoded data removed]",
                  "text/plain": [
                     "<Figure size 800x600 with 2 Axes>"
                  ]
               },
               "metadata": {},
               "output_type": "display_data"
            }
         ],
         "source": [
            "classes = ['Malignant', 'Normal']\n",
            "\n",
            "# Compute confusion matrix\n",
            "conf_matrix = cm(true_test_labels, y_test_pred)\n",
            "\n",
            "# Plot confusion matrix using Seaborn\n",
            "plt.figure(figsize=(8, 6))\n",
            "sns.heatmap(conf_matrix, annot=True, fmt='d', xticklabels=classes, yticklabels=classes)\n",
            "plt.title('Confusion Matrix')\n",
            "plt.ylabel('True Label')\n",
            "plt.xlabel('Predicted Label')\n",
            "plt.show()\n"
         ]
      }
   ],
   "metadata": {
      "kernelspec": {
         "display_name": "Python 3 (ipykernel)",
         "language": "python",
         "name": "python3"
      },
      "language_info": {
         "codemirror_mode": {
            "name": "ipython",
            "version": 3
         },
         "file_extension": ".py",
         "mimetype": "text/x-python",
         "name": "python",
         "nbconvert_exporter": "python",
         "pygments_lexer": "ipython3",
         "version": "3.11.9"
      }
   },
   "nbformat": 4,
   "nbformat_minor": 2
}
